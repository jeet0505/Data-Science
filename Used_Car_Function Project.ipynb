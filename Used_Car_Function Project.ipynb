{
 "cells": [
  {
   "cell_type": "code",
   "execution_count": 1,
   "id": "a96fc818",
   "metadata": {},
   "outputs": [],
   "source": [
    "def used_car_price(car_manf_year,card_brand,kmtrs):\n",
    "    if car_manf_year==2020:\n",
    "        if 10000 < kmtrs <= 15000:\n",
    "            if card_brand == 'Honda Amaze':\n",
    "                print(\"Rs.690000 - Rs.750000\")\n",
    "            elif card_brand == 'Hundai Creat':\n",
    "                print(\"Rs.700000 - Rs.800000\")\n",
    "            elif card_brand == 'Maruti Suzuki Swift':\n",
    "                print(\"Rs.400000 - Rs.450000\")\n",
    "            else:\n",
    "                print(\"No stock right now, please visit after few days\")\n",
    "                \n",
    "        elif 150001 < kmtrs <= 25000:\n",
    "            if card_brand == \"Honda Amaze\":\n",
    "                print(\"Rs.590000 - Rs.650000\")\n",
    "            elif card_brand == \"Hundai Creat\":\n",
    "                print(\"Rs.600000 - Rs.680000\")\n",
    "            elif card_brand == \"Maruti Suzuki Swift\":\n",
    "                print(\"Rs.300000 - Rs.380000\")\n",
    "            else:\n",
    "                print(\"No stock right now, please visit after few days\")\n",
    "        \n",
    "        elif 25001 < kmtrs <= 35000:\n",
    "            if card_brand == \"Honda Amaze\":\n",
    "                print(\"Rs.450000 - Rs.550000\")\n",
    "            elif card_brand == \"Hundai Creat\":\n",
    "                print(\"Rs.500000 - Rs.580000\")\n",
    "            elif card_brand == \"Maruti Suzuki Swift\":\n",
    "                print(\"Rs.250000 - Rs.300000\")\n",
    "            else:\n",
    "                print(\"No stock right now, please visit after few days\")\n",
    "         \n",
    "        else:\n",
    "            print(\"No stock right now\")\n",
    "            \n",
    "    elif car_manf_year==2021:\n",
    "        if 10000 < kmtrs <= 15000:\n",
    "            if card_brand == 'Honda Amaze':\n",
    "                print(\"Rs.790000 - Rs.850000\")\n",
    "            elif card_brand == 'Hundai Creat':\n",
    "                print(\"Rs.800000 - Rs.900000\")\n",
    "            elif card_brand == 'Maruti Suzuki Swift':\n",
    "                print(\"Rs.450000 - Rs.490000\")\n",
    "            else:\n",
    "                print(\"No stock right now, please visit after few days\")\n",
    "                \n",
    "        elif 150001 < kmtrs <= 25000:\n",
    "            if card_brand == \"Honda Amaze\":\n",
    "                print(\"Rs.690000 - Rs.750000\")\n",
    "            elif card_brand == \"Hundai Creat\":\n",
    "                print(\"Rs.700000 - Rs.780000\")\n",
    "            elif card_brand == \"Maruti Suzuki Swift\":\n",
    "                print(\"Rs.350000 - Rs.390000\")\n",
    "            else:\n",
    "                print(\"No stock right now, please visit after few days\")\n",
    "        \n",
    "        elif 25001 < kmtrs <= 35000:\n",
    "            if card_brand == \"Honda Amaze\":\n",
    "                print(\"Rs.550000 - Rs.650000\")\n",
    "            elif card_brand == \"Hundai Creat\":\n",
    "                print(\"Rs.400000 - Rs.490000\")\n",
    "            elif card_brand == \"Maruti Suzuki Swift\":\n",
    "                print(\"Rs.300000 - Rs.350000\")\n",
    "            else:\n",
    "                print(\"No stock right now, please visit after few days\")\n",
    "        else:\n",
    "            print(\"No stock right now\")\n",
    "            \n",
    "    elif car_manf_year==2022:\n",
    "        if 10000 < kmtrs <= 15000:\n",
    "            if card_brand == 'Honda Amaze':\n",
    "                print(\"Rs.850000 - Rs.950000\")\n",
    "            elif card_brand == 'Hundai Creat':\n",
    "                print(\"Rs.850000 - Rs.975000\")\n",
    "            elif card_brand == 'Maruti Suzuki Swift':\n",
    "                print(\"Rs.500000 - Rs.525000\")\n",
    "            else:\n",
    "                print(\"No stock right now, please visit after few days\")\n",
    "                \n",
    "        elif 150001 < kmtrs <= 25000:\n",
    "            if card_brand == \"Honda Amaze\":\n",
    "                print(\"Rs.700000 - Rs.800000\")\n",
    "            elif card_brand == \"Hundai Creat\":\n",
    "                print(\"Rs.750000 - Rs.800000\")\n",
    "            elif card_brand == \"Maruti Suzuki Swift\":\n",
    "                print(\"Rs.390000 - Rs.450000\")\n",
    "            else:\n",
    "                print(\"No stock right now, please visit after few days\")\n",
    "        \n",
    "        elif 25001 < kmtrs <= 35000:\n",
    "            if card_brand == \"Honda Amaze\":\n",
    "                print(\"Rs.650000 - Rs.750000\")\n",
    "            elif card_brand == \"Hundai Creat\":\n",
    "                print(\"Rs.500000 - Rs.590000\")\n",
    "            elif card_brand == \"Maruti Suzuki Swift\":\n",
    "                print(\"Rs.320000 - Rs.350000\")\n",
    "            else:\n",
    "                print(\"No stock right now, please visit after few days\")\n",
    "        else:\n",
    "            print(\"No stock right now\")\n",
    "            \n",
    "    else:\n",
    "        print(\"Sorry, We do not keep Car stock older than 2020\")\n",
    "        \n",
    "        \n",
    "            \n",
    "        \n",
    "        \n",
    "            "
   ]
  },
  {
   "cell_type": "code",
   "execution_count": 7,
   "id": "284b919e",
   "metadata": {},
   "outputs": [
    {
     "name": "stdout",
     "output_type": "stream",
     "text": [
      "Rs.500000 - Rs.580000\n"
     ]
    }
   ],
   "source": [
    "used_car_price(2020,'Hundai Creat',30000)"
   ]
  },
  {
   "cell_type": "code",
   "execution_count": 10,
   "id": "c8d579f2",
   "metadata": {},
   "outputs": [
    {
     "name": "stdout",
     "output_type": "stream",
     "text": [
      "Sorry, We do not keep Car stock older than 2020\n"
     ]
    }
   ],
   "source": [
    "used_car_price(2019,'Hundai Creat',30000)"
   ]
  },
  {
   "cell_type": "code",
   "execution_count": null,
   "id": "65f71e5b",
   "metadata": {},
   "outputs": [],
   "source": []
  }
 ],
 "metadata": {
  "kernelspec": {
   "display_name": "Python 3 (ipykernel)",
   "language": "python",
   "name": "python3"
  },
  "language_info": {
   "codemirror_mode": {
    "name": "ipython",
    "version": 3
   },
   "file_extension": ".py",
   "mimetype": "text/x-python",
   "name": "python",
   "nbconvert_exporter": "python",
   "pygments_lexer": "ipython3",
   "version": "3.9.12"
  }
 },
 "nbformat": 4,
 "nbformat_minor": 5
}
